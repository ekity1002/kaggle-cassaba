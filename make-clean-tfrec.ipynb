{
 "cells": [
  {
   "cell_type": "code",
   "execution_count": 1,
   "metadata": {
    "_kg_hide-input": true,
    "_kg_hide-output": true,
    "execution": {
     "iopub.execute_input": "2021-02-02T14:27:56.676797Z",
     "iopub.status.busy": "2021-02-02T14:27:56.675701Z",
     "iopub.status.idle": "2021-02-02T14:27:56.678381Z",
     "shell.execute_reply": "2021-02-02T14:27:56.677806Z"
    },
    "papermill": {
     "duration": 0.021543,
     "end_time": "2021-02-02T14:27:56.678516",
     "exception": false,
     "start_time": "2021-02-02T14:27:56.656973",
     "status": "completed"
    },
    "tags": []
   },
   "outputs": [],
   "source": [
    "#!pip install --quiet efficientnet\n",
    "#!pip install cleanlab"
   ]
  },
  {
   "cell_type": "code",
   "execution_count": 2,
   "metadata": {
    "_cell_guid": "b1076dfc-b9ad-4769-8c92-a6c4dae69d19",
    "_kg_hide-input": true,
    "_kg_hide-output": true,
    "_uuid": "8f2839f25d086af736a60e9eeb907d3b93b6e0e5",
    "execution": {
     "iopub.execute_input": "2021-02-02T14:27:56.713135Z",
     "iopub.status.busy": "2021-02-02T14:27:56.712297Z",
     "iopub.status.idle": "2021-02-02T14:28:04.602774Z",
     "shell.execute_reply": "2021-02-02T14:28:04.601932Z"
    },
    "papermill": {
     "duration": 7.912398,
     "end_time": "2021-02-02T14:28:04.602916",
     "exception": false,
     "start_time": "2021-02-02T14:27:56.690518",
     "status": "completed"
    },
    "tags": []
   },
   "outputs": [],
   "source": [
    "import math, os, re, warnings, random, time\n",
    "from functools import partial\n",
    "import numpy as np\n",
    "import pandas as pd\n",
    "import seaborn as sns\n",
    "from matplotlib import pyplot as plt\n",
    "from PIL import Image\n",
    "import cv2\n",
    "from sklearn.model_selection import StratifiedKFold\n",
    "import tensorflow as tf\n",
    "\n",
    "def seed_everything(seed=0):\n",
    "    random.seed(seed)\n",
    "    np.random.seed(seed)\n",
    "    tf.random.set_seed(seed)\n",
    "    os.environ['PYTHONHASHSEED'] = str(seed)\n",
    "    os.environ['TF_DETERMINISTIC_OPS'] = '1'\n",
    "\n",
    "SEED = 0\n",
    "seed_everything(SEED)\n",
    "warnings.filterwarnings('ignore')"
   ]
  },
  {
   "cell_type": "markdown",
   "metadata": {
    "papermill": {
     "duration": 0.012709,
     "end_time": "2021-02-02T14:28:04.627466",
     "exception": false,
     "start_time": "2021-02-02T14:28:04.614757",
     "status": "completed"
    },
    "tags": []
   },
   "source": [
    "### Hardware configuration\n",
    "\n",
    "Note that we have `32` cores, this is because the `TPU v2 Pod` have more cores than a single `TPU v3` which has `8` cores."
   ]
  },
  {
   "cell_type": "markdown",
   "metadata": {
    "papermill": {
     "duration": 0.011439,
     "end_time": "2021-02-02T14:28:04.651378",
     "exception": false,
     "start_time": "2021-02-02T14:28:04.639939",
     "status": "completed"
    },
    "tags": []
   },
   "source": [
    "# Model parameters"
   ]
  },
  {
   "cell_type": "code",
   "execution_count": 3,
   "metadata": {
    "execution": {
     "iopub.execute_input": "2021-02-02T14:28:04.683480Z",
     "iopub.status.busy": "2021-02-02T14:28:04.682440Z",
     "iopub.status.idle": "2021-02-02T14:28:04.685506Z",
     "shell.execute_reply": "2021-02-02T14:28:04.684808Z"
    },
    "papermill": {
     "duration": 0.022562,
     "end_time": "2021-02-02T14:28:04.685640",
     "exception": false,
     "start_time": "2021-02-02T14:28:04.663078",
     "status": "completed"
    },
    "tags": []
   },
   "outputs": [],
   "source": [
    "BATCH_SIZE = 8 \n",
    "LEARNING_RATE = 1e-5\n",
    "EPOCHS = 10 #default 10\n",
    "HEIGHT = 512\n",
    "WIDTH = 512\n",
    "HEIGHT_RS = 512\n",
    "WIDTH_RS = 512\n",
    "CHANNELS = 3\n",
    "N_CLASSES = 5\n",
    "N_FILES = 15\n",
    "FOLDS_USED = 5\n",
    "ES_PATIENCE = 5 #default 5\n",
    "T1=0.75 #tempered-loss t1\n",
    "T2=2.07 #tempered-loss t2\n",
    "CUTMIX_PROB=0.2"
   ]
  },
  {
   "cell_type": "markdown",
   "metadata": {
    "papermill": {
     "duration": 0.011412,
     "end_time": "2021-02-02T14:28:04.708930",
     "exception": false,
     "start_time": "2021-02-02T14:28:04.697518",
     "status": "completed"
    },
    "tags": []
   },
   "source": [
    "# Load data"
   ]
  },
  {
   "cell_type": "code",
   "execution_count": 4,
   "metadata": {
    "_kg_hide-input": true,
    "execution": {
     "iopub.execute_input": "2021-02-02T14:28:04.747111Z",
     "iopub.status.busy": "2021-02-02T14:28:04.746391Z",
     "iopub.status.idle": "2021-02-02T14:28:04.818030Z",
     "shell.execute_reply": "2021-02-02T14:28:04.816759Z"
    },
    "papermill": {
     "duration": 0.096715,
     "end_time": "2021-02-02T14:28:04.818260",
     "exception": false,
     "start_time": "2021-02-02T14:28:04.721545",
     "status": "completed"
    },
    "tags": []
   },
   "outputs": [
    {
     "name": "stdout",
     "output_type": "stream",
     "text": [
      "Train samples: 26337\n"
     ]
    }
   ],
   "source": [
    "def count_data_items(filenames):\n",
    "    n = [int(re.compile(r'-([0-9]*)\\.').search(filename).group(1)) for filename in filenames]\n",
    "    return np.sum(n)\n",
    "\n",
    "\n",
    "#database_base_path = '../input/noisy-label-eda-with-cleanlab'\n",
    "label_df = pd.read_csv(f'../input/noisy-label-eda-with-cleanlab/train_noisy_info.csv')\n",
    "print(f'Train samples: {len(label_df)}')"
   ]
  },
  {
   "cell_type": "code",
   "execution_count": 5,
   "metadata": {
    "execution": {
     "iopub.execute_input": "2021-02-02T14:28:04.858137Z",
     "iopub.status.busy": "2021-02-02T14:28:04.857420Z",
     "iopub.status.idle": "2021-02-02T14:28:04.868959Z",
     "shell.execute_reply": "2021-02-02T14:28:04.868239Z"
    },
    "papermill": {
     "duration": 0.037589,
     "end_time": "2021-02-02T14:28:04.869086",
     "exception": false,
     "start_time": "2021-02-02T14:28:04.831497",
     "status": "completed"
    },
    "tags": []
   },
   "outputs": [
    {
     "data": {
      "text/html": [
       "<div>\n",
       "<style scoped>\n",
       "    .dataframe tbody tr th:only-of-type {\n",
       "        vertical-align: middle;\n",
       "    }\n",
       "\n",
       "    .dataframe tbody tr th {\n",
       "        vertical-align: top;\n",
       "    }\n",
       "\n",
       "    .dataframe thead th {\n",
       "        text-align: right;\n",
       "    }\n",
       "</style>\n",
       "<table border=\"1\" class=\"dataframe\">\n",
       "  <thead>\n",
       "    <tr style=\"text-align: right;\">\n",
       "      <th></th>\n",
       "      <th>image_id</th>\n",
       "      <th>label</th>\n",
       "      <th>source</th>\n",
       "      <th>fold</th>\n",
       "      <th>is_noisy</th>\n",
       "    </tr>\n",
       "  </thead>\n",
       "  <tbody>\n",
       "    <tr>\n",
       "      <th>0</th>\n",
       "      <td>1000015157.jpg</td>\n",
       "      <td>0</td>\n",
       "      <td>2020</td>\n",
       "      <td>3</td>\n",
       "      <td>False</td>\n",
       "    </tr>\n",
       "    <tr>\n",
       "      <th>1</th>\n",
       "      <td>1000201771.jpg</td>\n",
       "      <td>3</td>\n",
       "      <td>2020</td>\n",
       "      <td>2</td>\n",
       "      <td>False</td>\n",
       "    </tr>\n",
       "    <tr>\n",
       "      <th>2</th>\n",
       "      <td>100042118.jpg</td>\n",
       "      <td>1</td>\n",
       "      <td>2020</td>\n",
       "      <td>4</td>\n",
       "      <td>True</td>\n",
       "    </tr>\n",
       "    <tr>\n",
       "      <th>3</th>\n",
       "      <td>1000723321.jpg</td>\n",
       "      <td>1</td>\n",
       "      <td>2020</td>\n",
       "      <td>1</td>\n",
       "      <td>False</td>\n",
       "    </tr>\n",
       "    <tr>\n",
       "      <th>4</th>\n",
       "      <td>1000812911.jpg</td>\n",
       "      <td>3</td>\n",
       "      <td>2020</td>\n",
       "      <td>1</td>\n",
       "      <td>False</td>\n",
       "    </tr>\n",
       "  </tbody>\n",
       "</table>\n",
       "</div>"
      ],
      "text/plain": [
       "         image_id  label  source  fold  is_noisy\n",
       "0  1000015157.jpg      0    2020     3     False\n",
       "1  1000201771.jpg      3    2020     2     False\n",
       "2   100042118.jpg      1    2020     4      True\n",
       "3  1000723321.jpg      1    2020     1     False\n",
       "4  1000812911.jpg      3    2020     1     False"
      ]
     },
     "metadata": {},
     "output_type": "display_data"
    }
   ],
   "source": [
    "display(label_df.head())\n",
    "CLASSES = ['Cassava Bacterial Blight', \n",
    "           'Cassava Brown Streak Disease', \n",
    "           'Cassava Green Mottle', \n",
    "           'Cassava Mosaic Disease', \n",
    "           'Healthy']\n",
    "NUM_TRAINING_IMAGES = len(label_df)"
   ]
  },
  {
   "cell_type": "code",
   "execution_count": 6,
   "metadata": {
    "execution": {
     "iopub.execute_input": "2021-02-02T14:28:04.918387Z",
     "iopub.status.busy": "2021-02-02T14:28:04.911623Z",
     "iopub.status.idle": "2021-02-02T14:28:04.929889Z",
     "shell.execute_reply": "2021-02-02T14:28:04.929265Z"
    },
    "papermill": {
     "duration": 0.046495,
     "end_time": "2021-02-02T14:28:04.930031",
     "exception": false,
     "start_time": "2021-02-02T14:28:04.883536",
     "status": "completed"
    },
    "tags": []
   },
   "outputs": [
    {
     "data": {
      "text/html": [
       "<div>\n",
       "<style scoped>\n",
       "    .dataframe tbody tr th:only-of-type {\n",
       "        vertical-align: middle;\n",
       "    }\n",
       "\n",
       "    .dataframe tbody tr th {\n",
       "        vertical-align: top;\n",
       "    }\n",
       "\n",
       "    .dataframe thead th {\n",
       "        text-align: right;\n",
       "    }\n",
       "</style>\n",
       "<table border=\"1\" class=\"dataframe\">\n",
       "  <thead>\n",
       "    <tr style=\"text-align: right;\">\n",
       "      <th></th>\n",
       "      <th>image_id</th>\n",
       "      <th>label</th>\n",
       "      <th>source</th>\n",
       "      <th>fold</th>\n",
       "      <th>is_noisy</th>\n",
       "      <th>class</th>\n",
       "    </tr>\n",
       "  </thead>\n",
       "  <tbody>\n",
       "    <tr>\n",
       "      <th>0</th>\n",
       "      <td>1000015157.jpg</td>\n",
       "      <td>0</td>\n",
       "      <td>2020</td>\n",
       "      <td>3</td>\n",
       "      <td>False</td>\n",
       "      <td>Cassava Bacterial Blight</td>\n",
       "    </tr>\n",
       "    <tr>\n",
       "      <th>1</th>\n",
       "      <td>1000201771.jpg</td>\n",
       "      <td>3</td>\n",
       "      <td>2020</td>\n",
       "      <td>2</td>\n",
       "      <td>False</td>\n",
       "      <td>Cassava Mosaic Disease</td>\n",
       "    </tr>\n",
       "    <tr>\n",
       "      <th>2</th>\n",
       "      <td>100042118.jpg</td>\n",
       "      <td>1</td>\n",
       "      <td>2020</td>\n",
       "      <td>4</td>\n",
       "      <td>True</td>\n",
       "      <td>Cassava Brown Streak Disease</td>\n",
       "    </tr>\n",
       "    <tr>\n",
       "      <th>3</th>\n",
       "      <td>1000723321.jpg</td>\n",
       "      <td>1</td>\n",
       "      <td>2020</td>\n",
       "      <td>1</td>\n",
       "      <td>False</td>\n",
       "      <td>Cassava Brown Streak Disease</td>\n",
       "    </tr>\n",
       "    <tr>\n",
       "      <th>4</th>\n",
       "      <td>1000812911.jpg</td>\n",
       "      <td>3</td>\n",
       "      <td>2020</td>\n",
       "      <td>1</td>\n",
       "      <td>False</td>\n",
       "      <td>Cassava Mosaic Disease</td>\n",
       "    </tr>\n",
       "  </tbody>\n",
       "</table>\n",
       "</div>"
      ],
      "text/plain": [
       "         image_id  label  source  fold  is_noisy                         class\n",
       "0  1000015157.jpg      0    2020     3     False      Cassava Bacterial Blight\n",
       "1  1000201771.jpg      3    2020     2     False        Cassava Mosaic Disease\n",
       "2   100042118.jpg      1    2020     4      True  Cassava Brown Streak Disease\n",
       "3  1000723321.jpg      1    2020     1     False  Cassava Brown Streak Disease\n",
       "4  1000812911.jpg      3    2020     1     False        Cassava Mosaic Disease"
      ]
     },
     "execution_count": 6,
     "metadata": {},
     "output_type": "execute_result"
    }
   ],
   "source": [
    "label_df['class'] = label_df['label'].apply(lambda x: CLASSES[x])\n",
    "label_df.head()"
   ]
  },
  {
   "cell_type": "code",
   "execution_count": 7,
   "metadata": {
    "execution": {
     "iopub.execute_input": "2021-02-02T14:28:04.964758Z",
     "iopub.status.busy": "2021-02-02T14:28:04.964059Z",
     "iopub.status.idle": "2021-02-02T14:28:04.979650Z",
     "shell.execute_reply": "2021-02-02T14:28:04.980662Z"
    },
    "papermill": {
     "duration": 0.037216,
     "end_time": "2021-02-02T14:28:04.980938",
     "exception": false,
     "start_time": "2021-02-02T14:28:04.943722",
     "status": "completed"
    },
    "tags": []
   },
   "outputs": [
    {
     "name": "stdout",
     "output_type": "stream",
     "text": [
      "(24225, 6) (2112, 6)\n"
     ]
    }
   ],
   "source": [
    "# remove noise label\n",
    "clean_df = label_df[label_df['is_noisy'] == False].reset_index(drop=True)\n",
    "noise_df = label_df[label_df['is_noisy'] == True].reset_index(drop=True)\n",
    "print(clean_df.shape, noise_df.shape)"
   ]
  },
  {
   "cell_type": "code",
   "execution_count": 8,
   "metadata": {
    "execution": {
     "iopub.execute_input": "2021-02-02T14:28:05.015993Z",
     "iopub.status.busy": "2021-02-02T14:28:05.015020Z",
     "iopub.status.idle": "2021-02-02T14:28:05.018665Z",
     "shell.execute_reply": "2021-02-02T14:28:05.018022Z"
    },
    "papermill": {
     "duration": 0.022586,
     "end_time": "2021-02-02T14:28:05.018792",
     "exception": false,
     "start_time": "2021-02-02T14:28:04.996206",
     "status": "completed"
    },
    "tags": []
   },
   "outputs": [],
   "source": [
    "# make clean dfrecords"
   ]
  },
  {
   "cell_type": "code",
   "execution_count": 9,
   "metadata": {
    "execution": {
     "iopub.execute_input": "2021-02-02T14:28:05.051314Z",
     "iopub.status.busy": "2021-02-02T14:28:05.050619Z",
     "iopub.status.idle": "2021-02-02T14:28:05.101972Z",
     "shell.execute_reply": "2021-02-02T14:28:05.101270Z"
    },
    "papermill": {
     "duration": 0.068896,
     "end_time": "2021-02-02T14:28:05.102171",
     "exception": false,
     "start_time": "2021-02-02T14:28:05.033275",
     "status": "completed"
    },
    "tags": []
   },
   "outputs": [
    {
     "name": "stdout",
     "output_type": "stream",
     "text": [
      "File: 1 has 1615 samples\n",
      "File: 2 has 1615 samples\n",
      "File: 3 has 1615 samples\n",
      "File: 4 has 1615 samples\n",
      "File: 5 has 1615 samples\n",
      "File: 6 has 1615 samples\n",
      "File: 7 has 1615 samples\n",
      "File: 8 has 1615 samples\n",
      "File: 9 has 1615 samples\n",
      "File: 10 has 1615 samples\n",
      "File: 11 has 1615 samples\n",
      "File: 12 has 1615 samples\n",
      "File: 13 has 1615 samples\n",
      "File: 14 has 1615 samples\n",
      "File: 15 has 1615 samples\n"
     ]
    },
    {
     "data": {
      "text/html": [
       "<div>\n",
       "<style scoped>\n",
       "    .dataframe tbody tr th:only-of-type {\n",
       "        vertical-align: middle;\n",
       "    }\n",
       "\n",
       "    .dataframe tbody tr th {\n",
       "        vertical-align: top;\n",
       "    }\n",
       "\n",
       "    .dataframe thead th {\n",
       "        text-align: right;\n",
       "    }\n",
       "</style>\n",
       "<table border=\"1\" class=\"dataframe\">\n",
       "  <thead>\n",
       "    <tr style=\"text-align: right;\">\n",
       "      <th></th>\n",
       "      <th>image_id</th>\n",
       "      <th>label</th>\n",
       "      <th>source</th>\n",
       "      <th>fold</th>\n",
       "      <th>is_noisy</th>\n",
       "      <th>class</th>\n",
       "      <th>file</th>\n",
       "    </tr>\n",
       "  </thead>\n",
       "  <tbody>\n",
       "    <tr>\n",
       "      <th>0</th>\n",
       "      <td>1000015157.jpg</td>\n",
       "      <td>0</td>\n",
       "      <td>2020</td>\n",
       "      <td>3</td>\n",
       "      <td>False</td>\n",
       "      <td>Cassava Bacterial Blight</td>\n",
       "      <td>13</td>\n",
       "    </tr>\n",
       "    <tr>\n",
       "      <th>1</th>\n",
       "      <td>1000201771.jpg</td>\n",
       "      <td>3</td>\n",
       "      <td>2020</td>\n",
       "      <td>2</td>\n",
       "      <td>False</td>\n",
       "      <td>Cassava Mosaic Disease</td>\n",
       "      <td>14</td>\n",
       "    </tr>\n",
       "    <tr>\n",
       "      <th>2</th>\n",
       "      <td>1000723321.jpg</td>\n",
       "      <td>1</td>\n",
       "      <td>2020</td>\n",
       "      <td>1</td>\n",
       "      <td>False</td>\n",
       "      <td>Cassava Brown Streak Disease</td>\n",
       "      <td>3</td>\n",
       "    </tr>\n",
       "    <tr>\n",
       "      <th>3</th>\n",
       "      <td>1000812911.jpg</td>\n",
       "      <td>3</td>\n",
       "      <td>2020</td>\n",
       "      <td>1</td>\n",
       "      <td>False</td>\n",
       "      <td>Cassava Mosaic Disease</td>\n",
       "      <td>11</td>\n",
       "    </tr>\n",
       "    <tr>\n",
       "      <th>4</th>\n",
       "      <td>1000837476.jpg</td>\n",
       "      <td>3</td>\n",
       "      <td>2020</td>\n",
       "      <td>0</td>\n",
       "      <td>False</td>\n",
       "      <td>Cassava Mosaic Disease</td>\n",
       "      <td>11</td>\n",
       "    </tr>\n",
       "  </tbody>\n",
       "</table>\n",
       "</div>"
      ],
      "text/plain": [
       "         image_id  label  source  fold  is_noisy  \\\n",
       "0  1000015157.jpg      0    2020     3     False   \n",
       "1  1000201771.jpg      3    2020     2     False   \n",
       "2  1000723321.jpg      1    2020     1     False   \n",
       "3  1000812911.jpg      3    2020     1     False   \n",
       "4  1000837476.jpg      3    2020     0     False   \n",
       "\n",
       "                          class  file  \n",
       "0      Cassava Bacterial Blight    13  \n",
       "1        Cassava Mosaic Disease    14  \n",
       "2  Cassava Brown Streak Disease     3  \n",
       "3        Cassava Mosaic Disease    11  \n",
       "4        Cassava Mosaic Disease    11  "
      ]
     },
     "metadata": {},
     "output_type": "display_data"
    }
   ],
   "source": [
    "# tfrec fold\n",
    "folds = StratifiedKFold(n_splits=N_FILES, shuffle=True, random_state=SEED)\n",
    "clean_df['file'] = -1\n",
    "\n",
    "for fold_n, (train_idx, val_idx) in enumerate(folds.split(clean_df, clean_df['label'])):\n",
    "    print('File: %s has %s samples' % (fold_n+1, len(val_idx)))\n",
    "    clean_df['file'].loc[val_idx] = fold_n\n",
    "    \n",
    "display(clean_df.head())"
   ]
  },
  {
   "cell_type": "code",
   "execution_count": 10,
   "metadata": {
    "execution": {
     "iopub.execute_input": "2021-02-02T14:28:05.158508Z",
     "iopub.status.busy": "2021-02-02T14:28:05.157354Z",
     "iopub.status.idle": "2021-02-02T14:28:05.160766Z",
     "shell.execute_reply": "2021-02-02T14:28:05.160104Z"
    },
    "papermill": {
     "duration": 0.043198,
     "end_time": "2021-02-02T14:28:05.160888",
     "exception": false,
     "start_time": "2021-02-02T14:28:05.117690",
     "status": "completed"
    },
    "tags": []
   },
   "outputs": [],
   "source": [
    "def decode_image(image_data):\n",
    "    image = tf.image.decode_jpeg(image_data, channels=3)\n",
    "    image = tf.cast(image, tf.float32) / 255.0\n",
    "    #image = tf.cast(image, tf.float32)\n",
    "                      \n",
    "    image = tf.image.resize(image, [HEIGHT, WIDTH])\n",
    "    image = tf.reshape(image, [HEIGHT, WIDTH, 3])\n",
    "    return image\n",
    "\n",
    "def read_tfrecord(example):\n",
    "    TFREC_FORMAT = {\n",
    "        'image': tf.io.FixedLenFeature([], tf.string), \n",
    "        'target': tf.io.FixedLenFeature([], tf.int64), \n",
    "        'image_name': tf.io.FixedLenFeature([], tf.string), \n",
    "    }\n",
    "    example = tf.io.parse_single_example(example, TFREC_FORMAT)\n",
    "    image = decode_image(example['image'])\n",
    "    target = example['target']\n",
    "    name = example['image_name']\n",
    "    return image, target, name\n",
    "\n",
    "def load_dataset(filenames, HEIGHT, WIDTH, CHANNELS=3):\n",
    "    dataset = tf.data.TFRecordDataset(filenames)\n",
    "    dataset = dataset.map(read_tfrecord, num_parallel_calls=AUTO)\n",
    "    return dataset\n",
    "\n",
    "def display_samples(ds, row, col):\n",
    "    ds_iter = iter(ds)\n",
    "    plt.figure(figsize=(15, int(15*row/col)))\n",
    "    for j in range(row*col):\n",
    "        image, label, name = next(ds_iter)\n",
    "        plt.subplot(row,col,j+1)\n",
    "        plt.axis('off')\n",
    "        plt.imshow(image[0])\n",
    "        plt.title(f\"{label[0]}: {name[0].numpy().decode('utf-8')}\", fontsize=12)\n",
    "    plt.show()\n",
    "\n",
    "def count_data_items(filenames):\n",
    "    n = [int(re.compile(r\"-([0-9]*)\\.\").search(filename).group(1)) for filename in filenames]\n",
    "    return np.sum(n)\n",
    "\n",
    "\n",
    "# Create TF Records\n",
    "def _bytes_feature(value):\n",
    "  \"\"\"Returns a bytes_list from a string / byte.\"\"\"\n",
    "  if isinstance(value, type(tf.constant(0))):\n",
    "    value = value.numpy() # BytesList won't unpack a string from an EagerTensor.\n",
    "  return tf.train.Feature(bytes_list=tf.train.BytesList(value=[value]))\n",
    "\n",
    "def _int64_feature(value):\n",
    "  \"\"\"Returns an int64_list from a bool / enum / int / uint.\"\"\"\n",
    "  return tf.train.Feature(int64_list=tf.train.Int64List(value=[value]))\n",
    "\n",
    "def serialize_example(image, target, image_name):\n",
    "  feature = {\n",
    "      'image': _bytes_feature(image),\n",
    "      'label': _int64_feature(target),\n",
    "      'image_id': _bytes_feature(image_name),\n",
    "  }\n",
    "  example_proto = tf.train.Example(features=tf.train.Features(feature=feature))\n",
    "  return example_proto.SerializeToString()"
   ]
  },
  {
   "cell_type": "code",
   "execution_count": 11,
   "metadata": {
    "execution": {
     "iopub.execute_input": "2021-02-02T14:28:05.205470Z",
     "iopub.status.busy": "2021-02-02T14:28:05.204237Z",
     "iopub.status.idle": "2021-02-02T14:39:21.611861Z",
     "shell.execute_reply": "2021-02-02T14:39:21.611055Z"
    },
    "papermill": {
     "duration": 676.435705,
     "end_time": "2021-02-02T14:39:21.612032",
     "exception": false,
     "start_time": "2021-02-02T14:28:05.176327",
     "status": "completed"
    },
    "tags": []
   },
   "outputs": [
    {
     "name": "stdout",
     "output_type": "stream",
     "text": [
      "\n",
      "Writing TFRecord 0 of 15...\n",
      "1615 samples\n",
      "\n",
      "Writing TFRecord 1 of 15...\n",
      "1615 samples\n",
      "\n",
      "Writing TFRecord 2 of 15...\n",
      "1615 samples\n",
      "\n",
      "Writing TFRecord 3 of 15...\n",
      "1615 samples\n",
      "\n",
      "Writing TFRecord 4 of 15...\n",
      "1615 samples\n",
      "\n",
      "Writing TFRecord 5 of 15...\n",
      "1615 samples\n",
      "\n",
      "Writing TFRecord 6 of 15...\n",
      "1615 samples\n",
      "\n",
      "Writing TFRecord 7 of 15...\n",
      "1615 samples\n",
      "\n",
      "Writing TFRecord 8 of 15...\n",
      "1615 samples\n",
      "\n",
      "Writing TFRecord 9 of 15...\n",
      "1615 samples\n",
      "\n",
      "Writing TFRecord 10 of 15...\n",
      "1615 samples\n",
      "\n",
      "Writing TFRecord 11 of 15...\n",
      "1615 samples\n",
      "\n",
      "Writing TFRecord 12 of 15...\n",
      "1615 samples\n",
      "\n",
      "Writing TFRecord 13 of 15...\n",
      "1615 samples\n",
      "\n",
      "Writing TFRecord 14 of 15...\n",
      "1615 samples\n"
     ]
    }
   ],
   "source": [
    "PATH='../input/cassava-leaf-disease-merged/train/'\n",
    "IMG_QUALITY = 100\n",
    "for tfrec_num in range(N_FILES):\n",
    "    print('\\nWriting TFRecord %i of %i...'%(tfrec_num, N_FILES))\n",
    "    samples = clean_df[clean_df['file'] == tfrec_num]\n",
    "    n_samples = len(samples)\n",
    "    print(f'{n_samples} samples')\n",
    "    with tf.io.TFRecordWriter('Id_train%.2i-%i.tfrec'%(tfrec_num, n_samples)) as writer:\n",
    "        for row in samples.itertuples():\n",
    "            label = row.label\n",
    "            image_name = row.image_id\n",
    "            img_path = f'{PATH}{image_name}'\n",
    "            \n",
    "            img = cv2.imread(img_path)\n",
    "            img = cv2.resize(img, (HEIGHT, WIDTH))\n",
    "            img = cv2.imencode('.jpg', img, (cv2.IMWRITE_JPEG_QUALITY, IMG_QUALITY))[1].tostring()\n",
    "            \n",
    "            example = serialize_example(img, label, str.encode(image_name))\n",
    "            writer.write(example)\n",
    "            \n",
    "clean_df.to_csv('clean_data.csv', index=False)"
   ]
  },
  {
   "cell_type": "code",
   "execution_count": 12,
   "metadata": {
    "execution": {
     "iopub.execute_input": "2021-02-02T14:39:21.665786Z",
     "iopub.status.busy": "2021-02-02T14:39:21.664693Z",
     "iopub.status.idle": "2021-02-02T14:40:19.659309Z",
     "shell.execute_reply": "2021-02-02T14:40:19.658060Z"
    },
    "papermill": {
     "duration": 58.025496,
     "end_time": "2021-02-02T14:40:19.659481",
     "exception": false,
     "start_time": "2021-02-02T14:39:21.633985",
     "status": "completed"
    },
    "tags": []
   },
   "outputs": [
    {
     "name": "stdout",
     "output_type": "stream",
     "text": [
      "2112 samples\n"
     ]
    }
   ],
   "source": [
    "samples = noise_df\n",
    "n_samples = len(samples)\n",
    "print(f'{n_samples} samples')\n",
    "with tf.io.TFRecordWriter(f'Id_noisy00-{n_samples}.tfrec') as writer:\n",
    "    for row in samples.itertuples():\n",
    "        label = row.label\n",
    "        image_name = row.image_id\n",
    "        img_path = f'{PATH}{image_name}'\n",
    "\n",
    "        img = cv2.imread(img_path)\n",
    "        img = cv2.resize(img, (HEIGHT, WIDTH))\n",
    "        img = cv2.imencode('.jpg', img, (cv2.IMWRITE_JPEG_QUALITY, IMG_QUALITY))[1].tostring()\n",
    "\n",
    "        example = serialize_example(img, label, str.encode(image_name))\n",
    "        writer.write(example)\n",
    "            \n",
    "noise_df.to_csv('noise_data.csv', index=False)"
   ]
  },
  {
   "cell_type": "code",
   "execution_count": null,
   "metadata": {
    "papermill": {
     "duration": 0.020408,
     "end_time": "2021-02-02T14:40:19.701325",
     "exception": false,
     "start_time": "2021-02-02T14:40:19.680917",
     "status": "completed"
    },
    "tags": []
   },
   "outputs": [],
   "source": []
  }
 ],
 "metadata": {
  "kernelspec": {
   "display_name": "Python 3",
   "language": "python",
   "name": "python3"
  },
  "language_info": {
   "codemirror_mode": {
    "name": "ipython",
    "version": 3
   },
   "file_extension": ".py",
   "mimetype": "text/x-python",
   "name": "python",
   "nbconvert_exporter": "python",
   "pygments_lexer": "ipython3",
   "version": "3.7.6"
  },
  "papermill": {
   "duration": 748.223371,
   "end_time": "2021-02-02T14:40:19.831868",
   "environment_variables": {},
   "exception": null,
   "input_path": "__notebook__.ipynb",
   "output_path": "__notebook__.ipynb",
   "parameters": {},
   "start_time": "2021-02-02T14:27:51.608497",
   "version": "2.1.0"
  }
 },
 "nbformat": 4,
 "nbformat_minor": 4
}
